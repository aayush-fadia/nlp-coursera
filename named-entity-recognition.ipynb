{
 "cells": [
  {
   "cell_type": "markdown",
   "metadata": {
    "collapsed": true
   },
   "source": [
    "# Recognize named entities on Twitter with LSTMs\n",
    "\n",
    "In this assignment, you will use a recurrent neural network to solve Named Entity Recognition (NER) problem. NER is a common task in natural language processing systems. It serves for extraction such entities from the text as persons, organizations, locations, etc. In this task you will experiment to recognize named entities from Twitter.\n",
    "\n",
    "For example, we want to extract persons' and organizations' names from the text. Than for the input text:\n",
    "\n",
    "    Ian Goodfellow works for Google Brain\n",
    "\n",
    "a NER model needs to provide the following sequence of tags:\n",
    "\n",
    "    B-PER I-PER    O     O   B-ORG  I-ORG\n",
    "\n",
    "Where *B-* and *I-* prefixes stand for the beginning and inside of the entity, while *O* stands for out of tag or no tag. Markup with the prefix scheme is called *BIO markup*. This markup is introduced for distinguishing of consequent entities with similar types.\n",
    "\n",
    "A solution of the task will be based on neural networks, particularly, on Bi-Directional Long Short-Term Memory Networks (Bi-LSTMs).\n",
    "\n",
    "### Libraries\n",
    "\n",
    "For this task you will need the following libraries:\n",
    " - [Tensorflow](https://www.tensorflow.org) — an open-source software library for Machine Intelligence.\n",
    " \n",
    "In this assignment, we use Tensorflow 1.15.0. You can install it with pip:\n",
    "\n",
    "    !pip install tensorflow==1.15.0\n",
    "     \n",
    " - [Numpy](http://www.numpy.org) — a package for scientific computing.\n",
    " \n",
    "If you have never worked with Tensorflow, you would probably need to read some tutorials during your work on this assignment, e.g. [this one](https://www.tensorflow.org/tutorials/recurrent) could be a good starting point. "
   ]
  },
  {
   "cell_type": "markdown",
   "metadata": {},
   "source": [
    "### Data\n",
    "\n",
    "The following cell will download all data required for this assignment into the folder `week2/data`."
   ]
  },
  {
   "cell_type": "code",
   "execution_count": 1,
   "metadata": {},
   "outputs": [
    {
     "data": {
      "application/vnd.jupyter.widget-view+json": {
       "model_id": "71261c54814b4886b8c20eb145a7a2b9",
       "version_major": 2,
       "version_minor": 0
      },
      "text/plain": [
       "HBox(children=(FloatProgress(value=0.0, max=849548.0), HTML(value='')))"
      ]
     },
     "metadata": {},
     "output_type": "display_data"
    },
    {
     "name": "stdout",
     "output_type": "stream",
     "text": [
      "\n"
     ]
    },
    {
     "data": {
      "application/vnd.jupyter.widget-view+json": {
       "model_id": "5033276587904a03bf07c385ad2698b6",
       "version_major": 2,
       "version_minor": 0
      },
      "text/plain": [
       "HBox(children=(FloatProgress(value=0.0, max=103771.0), HTML(value='')))"
      ]
     },
     "metadata": {},
     "output_type": "display_data"
    },
    {
     "name": "stdout",
     "output_type": "stream",
     "text": [
      "\n"
     ]
    },
    {
     "data": {
      "application/vnd.jupyter.widget-view+json": {
       "model_id": "f6ec7bb565d4414d8fa6467417c0d9d1",
       "version_major": 2,
       "version_minor": 0
      },
      "text/plain": [
       "HBox(children=(FloatProgress(value=0.0, max=106837.0), HTML(value='')))"
      ]
     },
     "metadata": {},
     "output_type": "display_data"
    },
    {
     "name": "stdout",
     "output_type": "stream",
     "text": [
      "\n"
     ]
    }
   ],
   "source": [
    "try:\n",
    "    import google.colab\n",
    "    IN_COLAB = True\n",
    "except:\n",
    "    IN_COLAB = False\n",
    "\n",
    "if IN_COLAB:\n",
    "    ! wget https://raw.githubusercontent.com/hse-aml/natural-language-processing/master/setup_google_colab.py -O setup_google_colab.py\n",
    "    import setup_google_colab\n",
    "    setup_google_colab.setup_week2()\n",
    "\n",
    "import sys\n",
    "sys.path.append(\"..\")\n",
    "from common.download_utils import download_week2_resources\n",
    "\n",
    "download_week2_resources()"
   ]
  },
  {
   "cell_type": "markdown",
   "metadata": {},
   "source": [
    "### Load the Twitter Named Entity Recognition corpus\n",
    "\n",
    "We will work with a corpus, which contains tweets with NE tags. Every line of a file contains a pair of a token (word/punctuation symbol) and a tag, separated by a whitespace. Different tweets are separated by an empty line.\n",
    "\n",
    "The function *read_data* reads a corpus from the *file_path* and returns two lists: one with tokens and one with the corresponding tags. You need to complete this function by adding a code, which will replace a user's nickname to `<USR>` token and any URL to `<URL>` token. You could think that a URL and a nickname are just strings which start with *http://* or *https://* in case of URLs and a *@* symbol for nicknames."
   ]
  },
  {
   "cell_type": "code",
   "execution_count": 2,
   "metadata": {},
   "outputs": [],
   "source": [
    "def read_data(file_path):\n",
    "    tokens = []\n",
    "    tags = []\n",
    "    \n",
    "    tweet_tokens = []\n",
    "    tweet_tags = []\n",
    "    for line in open(file_path, encoding='utf-8'):\n",
    "        line = line.strip()\n",
    "        if not line:\n",
    "            if tweet_tokens:\n",
    "                tokens.append(tweet_tokens)\n",
    "                tags.append(tweet_tags)\n",
    "            tweet_tokens = []\n",
    "            tweet_tags = []\n",
    "        else:\n",
    "            token, tag = line.split()\n",
    "            if token.startswith(\"https://\") or token.startswith(\"http://\"):\n",
    "                token = '<URL>'\n",
    "            if token.startswith(\"@\"):\n",
    "                token = '<USR>'\n",
    "            tweet_tokens.append(token)\n",
    "            tweet_tags.append(tag)\n",
    "            \n",
    "    return tokens, tags"
   ]
  },
  {
   "cell_type": "markdown",
   "metadata": {},
   "source": [
    "And now we can load three separate parts of the dataset:\n",
    " - *train* data for training the model;\n",
    " - *validation* data for evaluation and hyperparameters tuning;\n",
    " - *test* data for final evaluation of the model."
   ]
  },
  {
   "cell_type": "code",
   "execution_count": 3,
   "metadata": {},
   "outputs": [],
   "source": [
    "train_tokens, train_tags = read_data('data/train.txt')\n",
    "validation_tokens, validation_tags = read_data('data/validation.txt')\n",
    "test_tokens, test_tags = read_data('data/test.txt')"
   ]
  },
  {
   "cell_type": "markdown",
   "metadata": {},
   "source": [
    "You should always understand what kind of data you deal with. For this purpose, you can print the data running the following cell:"
   ]
  },
  {
   "cell_type": "code",
   "execution_count": 4,
   "metadata": {},
   "outputs": [
    {
     "name": "stdout",
     "output_type": "stream",
     "text": [
      "RT\tO\n",
      "<USR>\tO\n",
      ":\tO\n",
      "Online\tO\n",
      "ticket\tO\n",
      "sales\tO\n",
      "for\tO\n",
      "Ghostland\tB-musicartist\n",
      "Observatory\tI-musicartist\n",
      "extended\tO\n",
      "until\tO\n",
      "6\tO\n",
      "PM\tO\n",
      "EST\tO\n",
      "due\tO\n",
      "to\tO\n",
      "high\tO\n",
      "demand\tO\n",
      ".\tO\n",
      "Get\tO\n",
      "them\tO\n",
      "before\tO\n",
      "they\tO\n",
      "sell\tO\n",
      "out\tO\n",
      "...\tO\n",
      "\n",
      "Apple\tB-product\n",
      "MacBook\tI-product\n",
      "Pro\tI-product\n",
      "A1278\tI-product\n",
      "13.3\tI-product\n",
      "\"\tI-product\n",
      "Laptop\tI-product\n",
      "-\tI-product\n",
      "MD101LL/A\tI-product\n",
      "(\tO\n",
      "June\tO\n",
      ",\tO\n",
      "2012\tO\n",
      ")\tO\n",
      "-\tO\n",
      "Full\tO\n",
      "read\tO\n",
      "by\tO\n",
      "eBay\tB-company\n",
      "<URL>\tO\n",
      "<URL>\tO\n",
      "\n",
      "Happy\tO\n",
      "Birthday\tO\n",
      "<USR>\tO\n",
      "!\tO\n",
      "May\tO\n",
      "Allah\tB-person\n",
      "s.w.t\tO\n",
      "bless\tO\n",
      "you\tO\n",
      "with\tO\n",
      "goodness\tO\n",
      "and\tO\n",
      "happiness\tO\n",
      ".\tO\n",
      "\n"
     ]
    }
   ],
   "source": [
    "for i in range(3):\n",
    "    for token, tag in zip(train_tokens[i], train_tags[i]):\n",
    "        print('%s\\t%s' % (token, tag))\n",
    "    print()"
   ]
  },
  {
   "cell_type": "markdown",
   "metadata": {},
   "source": [
    "### Prepare dictionaries\n",
    "\n",
    "To train a neural network, we will use two mappings: \n",
    "- {token}$\\to${token id}: address the row in embeddings matrix for the current token;\n",
    "- {tag}$\\to${tag id}: one-hot ground truth probability distribution vectors for computing the loss at the output of the network.\n",
    "\n",
    "Now you need to implement the function *build_dict* which will return {token or tag}$\\to${index} and vice versa. "
   ]
  },
  {
   "cell_type": "code",
   "execution_count": 5,
   "metadata": {},
   "outputs": [],
   "source": [
    "from collections import defaultdict"
   ]
  },
  {
   "cell_type": "code",
   "execution_count": 25,
   "metadata": {},
   "outputs": [],
   "source": [
    "def build_dict(tokens_or_tags, special_tokens):\n",
    "    \"\"\"\n",
    "        tokens_or_tags: a list of lists of tokens or tags\n",
    "        special_tokens: some special tokens\n",
    "    \"\"\"\n",
    "    # Create a dictionary with default value 0\n",
    "    tok2idx = defaultdict(lambda: 0)\n",
    "    idx2tok = []\n",
    "    \n",
    "    for item in special_tokens:\n",
    "        if item not in idx2tok:\n",
    "            idx2tok.append(item)\n",
    "    for item in tokens_or_tags:\n",
    "        for token_or_tag in item:\n",
    "            if token_or_tag not in idx2tok:\n",
    "                idx2tok.append(token_or_tag)\n",
    "    for i, added_item in enumerate(idx2tok):\n",
    "        tok2idx[added_item] = i\n",
    "    \n",
    "    return tok2idx, idx2tok"
   ]
  },
  {
   "cell_type": "markdown",
   "metadata": {},
   "source": [
    "After implementing the function *build_dict* you can make dictionaries for tokens and tags. Special tokens in our case will be:\n",
    " - `<UNK>` token for out of vocabulary tokens;\n",
    " - `<PAD>` token for padding sentence to the same length when we create batches of sentences."
   ]
  },
  {
   "cell_type": "code",
   "execution_count": 26,
   "metadata": {},
   "outputs": [],
   "source": [
    "special_tokens = ['<PAD>', '<UNK>']\n",
    "special_tags = ['O']\n",
    "\n",
    "# Create dictionaries \n",
    "token2idx, idx2token = build_dict(train_tokens + validation_tokens, special_tokens)\n",
    "tag2idx, idx2tag = build_dict(train_tags, special_tags)"
   ]
  },
  {
   "cell_type": "markdown",
   "metadata": {},
   "source": [
    "The next additional functions will help you to create the mapping between tokens and ids for a sentence. "
   ]
  },
  {
   "cell_type": "code",
   "execution_count": 9,
   "metadata": {},
   "outputs": [],
   "source": [
    "def words2idxs(tokens_list):\n",
    "    return [token2idx[word] for word in tokens_list]\n",
    "\n",
    "def tags2idxs(tags_list):\n",
    "    return [tag2idx[tag] for tag in tags_list]\n",
    "\n",
    "def idxs2words(idxs):\n",
    "    return [idx2token[idx] for idx in idxs]\n",
    "\n",
    "def idxs2tags(idxs):\n",
    "    return [idx2tag[idx] for idx in idxs]"
   ]
  },
  {
   "cell_type": "markdown",
   "metadata": {},
   "source": [
    "### Generate batches\n",
    "\n",
    "Neural Networks are usually trained with batches. It means that weight updates of the network are based on several sequences at every single time. The tricky part is that all sequences within a batch need to have the same length. So we will pad them with a special `<PAD>` token. It is also a good practice to provide RNN with sequence lengths, so it can skip computations for padding parts. We provide the batching function *batches_generator* readily available for you to save time. "
   ]
  },
  {
   "cell_type": "code",
   "execution_count": 16,
   "metadata": {},
   "outputs": [],
   "source": [
    "import numpy as np\n",
    "def batches_generator(batch_size, tokens, tags,\n",
    "                      shuffle=True, allow_smaller_last_batch=True):\n",
    "    \"\"\"Generates padded batches of tokens and tags.\"\"\"\n",
    "    \n",
    "    n_samples = len(tokens)\n",
    "    if shuffle:\n",
    "        order = np.random.permutation(n_samples)\n",
    "    else:\n",
    "        order = np.arange(n_samples)\n",
    "\n",
    "    n_batches = n_samples // batch_size\n",
    "    if allow_smaller_last_batch and n_samples % batch_size:\n",
    "        n_batches += 1\n",
    "\n",
    "    for k in range(n_batches):\n",
    "        batch_start = k * batch_size\n",
    "        batch_end = min((k + 1) * batch_size, n_samples)\n",
    "        current_batch_size = batch_end - batch_start\n",
    "        x_list = []\n",
    "        y_list = []\n",
    "        max_len_token = 0\n",
    "        for idx in order[batch_start: batch_end]:\n",
    "            x_list.append(words2idxs(tokens[idx]))\n",
    "            y_list.append(tags2idxs(tags[idx]))\n",
    "            max_len_token = max(max_len_token, len(tags[idx]))\n",
    "            \n",
    "        # Fill in the data into numpy nd-arrays filled with padding indices.\n",
    "        x = np.ones([current_batch_size, max_len_token], dtype=np.int32) * token2idx['<PAD>']\n",
    "        y = np.ones([current_batch_size, max_len_token], dtype=np.int32) * tag2idx['O']\n",
    "        for n in range(current_batch_size):\n",
    "            utt_len = len(x_list[n])\n",
    "            x[n, :utt_len] = x_list[n]\n",
    "            y[n, :utt_len] = y_list[n]\n",
    "        yield (x, y)"
   ]
  },
  {
   "cell_type": "markdown",
   "metadata": {},
   "source": [
    "## Build a recurrent neural network\n",
    "\n",
    "This is the most important part of the assignment. Here we will specify the network architecture based on TensorFlow building blocks. It's fun and easy as a lego constructor! We will create an LSTM network which will produce probability distribution over tags for each token in a sentence. To take into account both right and left contexts of the token, we will use Bi-Directional LSTM (Bi-LSTM). Dense layer will be used on top to perform tag classification.  \n",
    "### Modified Section\n",
    "I have used tensorflow 2.0 to build the network.\n",
    "This does not require sessions, and the masking of the error function corresponding to PAD is done automatically. The model has the same architecture as the one provided, "
   ]
  },
  {
   "cell_type": "code",
   "execution_count": 17,
   "metadata": {},
   "outputs": [],
   "source": [
    "import warnings\n",
    "warnings.filterwarnings(\"ignore\")\n",
    "import logging\n",
    "logging.getLogger('tensorflow').disabled = True\n",
    "import tensorflow as tf\n",
    "tf.autograph.set_verbosity(0)\n",
    "tf.get_logger().disabled = True\n",
    "from tensorflow.keras.layers import LSTM, Bidirectional, Dense, Embedding\n",
    "from tensorflow.keras.models import Model\n",
    "from tensorflow.keras.losses import SparseCategoricalCrossentropy\n",
    "from tensorflow.keras.optimizers import Adam\n",
    "class BiLSTMModel(Model):\n",
    "    def __init__(self, vocabulary_size, embedding_dim, n_hidden_rnn, n_tags, drop_prob):\n",
    "        super(BiLSTMModel, self).__init__()\n",
    "        self.embeddor = Embedding(vocabulary_size, embedding_dim, mask_zero=True)\n",
    "        self.BiRNN = Bidirectional(LSTM(n_hidden_rnn, recurrent_dropout=drop_prob, return_sequences=True))\n",
    "        self.head = Dense(n_tags, activation = None)\n",
    "    def call(self, inputs):\n",
    "        embedded = self.embeddor(inputs)\n",
    "        rnn_outs = self.BiRNN(embedded)\n",
    "        logits = self.head(rnn_outs)\n",
    "        return logits"
   ]
  },
  {
   "cell_type": "markdown",
   "metadata": {},
   "source": [
    "We finished with necessary methods of our BiLSTMModel model and almost ready to start experimenting.\n",
    "\n",
    "### Evaluation \n",
    "To simplify the evaluation process we provide two functions for you:\n",
    " - *predict_tags*: uses a model to get predictions and transforms indices to tokens and tags;\n",
    " - *eval_conll*: calculates precision, recall and F1 for the results."
   ]
  },
  {
   "cell_type": "code",
   "execution_count": 18,
   "metadata": {},
   "outputs": [],
   "source": [
    "from evaluation import precision_recall_f1"
   ]
  },
  {
   "cell_type": "code",
   "execution_count": 22,
   "metadata": {},
   "outputs": [],
   "source": [
    "def predict_tags(model, token_idxs_batch):\n",
    "    \"\"\"Performs predictions and transforms indices to tokens and tags.\"\"\"\n",
    "    \n",
    "    tag_idxs_batch = model.predict(token_idxs_batch)\n",
    "    tag_idxs_batch = np.argmax(tag_idxs_batch, axis=-1)\n",
    "    tags_batch, tokens_batch = [], []\n",
    "    for tag_idxs, token_idxs in zip(tag_idxs_batch, token_idxs_batch):\n",
    "        tags, tokens = [], []\n",
    "        for tag_idx, token_idx in zip(tag_idxs, token_idxs):\n",
    "            tags.append(idx2tag[tag_idx])\n",
    "            tokens.append(idx2token[token_idx])\n",
    "        tags_batch.append(tags)\n",
    "        tokens_batch.append(tokens)\n",
    "    return tags_batch, tokens_batch\n",
    "    \n",
    "    \n",
    "def eval_conll(model, tokens, tags, short_report=True):\n",
    "    \"\"\"Computes NER quality measures using CONLL shared task script.\"\"\"\n",
    "    \n",
    "    y_true, y_pred = [], []\n",
    "    for x_batch, y_batch in batches_generator(1, tokens, tags):\n",
    "        tags_batch, tokens_batch = predict_tags(model, x_batch)\n",
    "        if len(x_batch[0]) != len(tags_batch[0]):\n",
    "            raise Exception(\"Incorrect length of prediction for the input, \"\n",
    "                            \"expected length: %i, got: %i\" % (len(x_batch[0]), len(tags_batch[0])))\n",
    "        predicted_tags = []\n",
    "        ground_truth_tags = []\n",
    "        for gt_tag_idx, pred_tag, token in zip(y_batch[0], tags_batch[0], tokens_batch[0]): \n",
    "            if token != '<PAD>':\n",
    "                ground_truth_tags.append(idx2tag[gt_tag_idx])\n",
    "                predicted_tags.append(pred_tag)\n",
    "\n",
    "        # We extend every prediction and ground truth sequence with 'O' tag\n",
    "        # to indicate a possible end of entity.\n",
    "        y_true.extend(ground_truth_tags + ['O'])\n",
    "        y_pred.extend(predicted_tags + ['O'])\n",
    "        \n",
    "    results = precision_recall_f1(y_true, y_pred, print_results=True, short_report=short_report)\n",
    "    return results"
   ]
  },
  {
   "cell_type": "markdown",
   "metadata": {},
   "source": [
    "## Run your experiment"
   ]
  },
  {
   "cell_type": "markdown",
   "metadata": {},
   "source": [
    "Create *BiLSTMModel* model with the following parameters:\n",
    " - *vocabulary_size* — number of tokens;\n",
    " - *n_tags* — number of tags;\n",
    " - *embedding_dim* — dimension of embeddings, recommended value: 200;\n",
    " - *n_hidden_rnn* — size of hidden layers for RNN, recommended value: 200;\n",
    " - *PAD_index* — an index of the padding token (`<PAD>`).\n",
    "\n",
    "Set hyperparameters. You might want to start with the following recommended values:\n",
    "- *batch_size*: 32;\n",
    "- 4 epochs;\n",
    "- starting value of *learning_rate*: 0.005\n",
    "- *learning_rate_decay*: a square root of 2;\n",
    "- *dropout_keep_probability*: try several values: 0.1, 0.5, 0.9.\n",
    "\n",
    "However, feel free to conduct more experiments to tune hyperparameters and earn extra points for the assignment."
   ]
  },
  {
   "cell_type": "code",
   "execution_count": 29,
   "metadata": {},
   "outputs": [
    {
     "name": "stdout",
     "output_type": "stream",
     "text": [
      "Vocabulary size is 20505\n",
      "Number of tags is 21\n",
      "Index of \"<PAD>\" token is 0\n"
     ]
    }
   ],
   "source": [
    "print(\"Vocabulary size is {}\".format(len(token2idx)))\n",
    "print(\"Number of tags is {}\".format(len(tag2idx)))\n",
    "print('Index of \"<PAD>\" token is {}'.format(token2idx['<PAD>']))"
   ]
  },
  {
   "cell_type": "code",
   "execution_count": 30,
   "metadata": {},
   "outputs": [
    {
     "name": "stdout",
     "output_type": "stream",
     "text": [
      "Epoch 1/64\n",
      "46/46 [==============================] - 7s 157ms/step - loss: 0.6259\n",
      "Epoch 2/64\n",
      "46/46 [==============================] - 5s 113ms/step - loss: 0.2376\n",
      "Epoch 3/64\n",
      "46/46 [==============================] - 5s 113ms/step - loss: 0.1871\n",
      "Epoch 4/64\n",
      "46/46 [==============================] - 5s 114ms/step - loss: 0.1533\n",
      "Epoch 5/64\n",
      "46/46 [==============================] - 5s 112ms/step - loss: 0.1315\n",
      "Epoch 6/64\n",
      "46/46 [==============================] - 5s 113ms/step - loss: 0.1229\n",
      "Epoch 7/64\n",
      "46/46 [==============================] - 5s 112ms/step - loss: 0.1134\n",
      "Epoch 8/64\n",
      "46/46 [==============================] - 5s 113ms/step - loss: 0.1044\n",
      "Epoch 9/64\n",
      "46/46 [==============================] - 5s 113ms/step - loss: 0.0970\n",
      "Epoch 10/64\n",
      "46/46 [==============================] - 5s 112ms/step - loss: 0.0869\n",
      "Epoch 11/64\n",
      "46/46 [==============================] - 5s 113ms/step - loss: 0.0750\n",
      "Epoch 12/64\n",
      "46/46 [==============================] - 5s 113ms/step - loss: 0.0621\n",
      "Epoch 13/64\n",
      "46/46 [==============================] - 5s 113ms/step - loss: 0.0503\n",
      "Epoch 14/64\n",
      "46/46 [==============================] - 5s 112ms/step - loss: 0.0403\n",
      "Epoch 15/64\n",
      "46/46 [==============================] - 5s 113ms/step - loss: 0.0319\n",
      "Epoch 16/64\n",
      "46/46 [==============================] - 5s 113ms/step - loss: 0.0263\n",
      "Epoch 17/64\n",
      "46/46 [==============================] - 5s 113ms/step - loss: 0.0212\n",
      "Epoch 18/64\n",
      "46/46 [==============================] - 5s 113ms/step - loss: 0.0175\n",
      "Epoch 19/64\n",
      "46/46 [==============================] - 6s 121ms/step - loss: 0.0142\n",
      "Epoch 20/64\n",
      "46/46 [==============================] - 5s 114ms/step - loss: 0.0115\n",
      "Epoch 21/64\n",
      "46/46 [==============================] - 5s 115ms/step - loss: 0.0097\n",
      "Epoch 22/64\n",
      "46/46 [==============================] - 6s 122ms/step - loss: 0.0078\n",
      "Epoch 23/64\n",
      "46/46 [==============================] - 6s 122ms/step - loss: 0.0068\n",
      "Epoch 24/64\n",
      "46/46 [==============================] - 5s 113ms/step - loss: 0.0058\n",
      "Epoch 25/64\n",
      "46/46 [==============================] - 5s 114ms/step - loss: 0.0049\n",
      "Epoch 26/64\n",
      "46/46 [==============================] - 5s 117ms/step - loss: 0.0043\n",
      "Epoch 27/64\n",
      "46/46 [==============================] - 6s 132ms/step - loss: 0.0038\n",
      "Epoch 28/64\n",
      "46/46 [==============================] - 6s 132ms/step - loss: 0.0035\n",
      "Epoch 29/64\n",
      "46/46 [==============================] - 6s 131ms/step - loss: 0.0030\n",
      "Epoch 30/64\n",
      "46/46 [==============================] - 5s 116ms/step - loss: 0.0030\n",
      "Epoch 31/64\n",
      "46/46 [==============================] - 5s 113ms/step - loss: 0.0026\n",
      "Epoch 32/64\n",
      "46/46 [==============================] - 5s 117ms/step - loss: 0.0027\n",
      "Epoch 33/64\n",
      "46/46 [==============================] - 5s 113ms/step - loss: 0.0024\n",
      "Epoch 34/64\n",
      "46/46 [==============================] - 5s 116ms/step - loss: 0.0022\n",
      "Epoch 35/64\n",
      "46/46 [==============================] - 5s 113ms/step - loss: 0.0020\n",
      "Epoch 36/64\n",
      "46/46 [==============================] - 5s 115ms/step - loss: 0.0018\n",
      "Epoch 37/64\n",
      "46/46 [==============================] - 5s 114ms/step - loss: 0.0017\n",
      "Epoch 38/64\n",
      "46/46 [==============================] - 5s 113ms/step - loss: 0.0017\n",
      "Epoch 39/64\n",
      "46/46 [==============================] - 5s 116ms/step - loss: 0.0017\n",
      "Epoch 40/64\n",
      "46/46 [==============================] - 6s 127ms/step - loss: 0.0016\n",
      "Epoch 41/64\n",
      "46/46 [==============================] - 5s 113ms/step - loss: 0.0015\n",
      "Epoch 42/64\n",
      "46/46 [==============================] - 5s 114ms/step - loss: 0.0014\n",
      "Epoch 43/64\n",
      "46/46 [==============================] - 5s 112ms/step - loss: 0.0015\n",
      "Epoch 44/64\n",
      "46/46 [==============================] - 6s 124ms/step - loss: 0.0015\n",
      "Epoch 45/64\n",
      "46/46 [==============================] - 6s 129ms/step - loss: 0.0013\n",
      "Epoch 46/64\n",
      "46/46 [==============================] - 6s 126ms/step - loss: 0.0013\n",
      "Epoch 47/64\n",
      "46/46 [==============================] - 6s 127ms/step - loss: 0.0012\n",
      "Epoch 48/64\n",
      "46/46 [==============================] - 6s 126ms/step - loss: 0.0011\n",
      "Epoch 49/64\n",
      "46/46 [==============================] - 6s 127ms/step - loss: 0.0011\n",
      "Epoch 50/64\n",
      "46/46 [==============================] - 6s 127ms/step - loss: 0.0011\n",
      "Epoch 51/64\n",
      "46/46 [==============================] - 5s 116ms/step - loss: 0.0012\n",
      "Epoch 52/64\n",
      "46/46 [==============================] - 5s 113ms/step - loss: 0.0010\n",
      "Epoch 53/64\n",
      "46/46 [==============================] - 5s 109ms/step - loss: 0.0013\n",
      "Epoch 54/64\n",
      "46/46 [==============================] - 5s 108ms/step - loss: 0.0015\n",
      "Epoch 55/64\n",
      "46/46 [==============================] - 5s 109ms/step - loss: 0.0012\n",
      "Epoch 56/64\n",
      "46/46 [==============================] - 5s 108ms/step - loss: 0.0014\n",
      "Epoch 57/64\n",
      "46/46 [==============================] - 5s 107ms/step - loss: 0.0011\n",
      "Epoch 58/64\n",
      "46/46 [==============================] - 5s 109ms/step - loss: 8.8236e-04\n",
      "Epoch 59/64\n",
      "46/46 [==============================] - 5s 108ms/step - loss: 0.0010\n",
      "Epoch 60/64\n",
      "46/46 [==============================] - 5s 108ms/step - loss: 8.2551e-04\n",
      "Epoch 61/64\n",
      "46/46 [==============================] - 5s 107ms/step - loss: 9.3354e-04\n",
      "Epoch 62/64\n",
      "46/46 [==============================] - 5s 108ms/step - loss: 8.0385e-04\n",
      "Epoch 63/64\n",
      "46/46 [==============================] - 5s 109ms/step - loss: 7.6355e-04\n",
      "Epoch 64/64\n",
      "46/46 [==============================] - 5s 108ms/step - loss: 8.1627e-04\n"
     ]
    },
    {
     "data": {
      "text/plain": [
       "<tensorflow.python.keras.callbacks.History at 0x7f8f704c6d90>"
      ]
     },
     "execution_count": 30,
     "metadata": {},
     "output_type": "execute_result"
    }
   ],
   "source": [
    "EMBEDDING_DIM = 300\n",
    "RNN_HIDDEN = 100\n",
    "DROPOUT_PROB = 0.3\n",
    "N_EPOCHS = 64\n",
    "tf.keras.backend.clear_session()\n",
    "model = BiLSTMModel(len(token2idx), EMBEDDING_DIM, RNN_HIDDEN, len(tag2idx), DROPOUT_PROB)\n",
    "dataset = tf.data.Dataset.from_generator(lambda: batches_generator(128, train_tokens, train_tags), (tf.int64, tf.int64), (tf.TensorShape([None, None]), tf.TensorShape([None, None]))).prefetch(tf.data.experimental.AUTOTUNE)\n",
    "model.compile(loss=SparseCategoricalCrossentropy(from_logits=True), optimizer=Adam())\n",
    "model.fit(dataset, epochs=N_EPOCHS)"
   ]
  },
  {
   "cell_type": "markdown",
   "metadata": {},
   "source": [
    "Now let us see full quality reports for the final model on train, validation, and test sets. To give you a hint whether you have implemented everything correctly, you might expect F-score about 40% on the validation set.\n",
    "\n",
    "**The output of the cell below (as well as the output of all the other cells) should be present in the notebook for peer2peer review!**"
   ]
  },
  {
   "cell_type": "code",
   "execution_count": 23,
   "metadata": {},
   "outputs": [
    {
     "name": "stdout",
     "output_type": "stream",
     "text": [
      "-------------------- Train set quality: --------------------\n",
      "processed 105778 tokens with 4489 phrases; found: 4496 phrases; correct: 4466.\n",
      "\n",
      "precision:  99.33%; recall:  99.49%; F1:  99.41\n",
      "\n",
      "\t     company: precision:   99.07%; recall:   99.38%; F1:   99.22; predicted:   645\n",
      "\n",
      "\t    facility: precision:   98.41%; recall:   98.73%; F1:   98.57; predicted:   315\n",
      "\n",
      "\t     geo-loc: precision:  100.00%; recall:   99.90%; F1:   99.95; predicted:   995\n",
      "\n",
      "\t       movie: precision:  100.00%; recall:  100.00%; F1:  100.00; predicted:    68\n",
      "\n",
      "\t musicartist: precision:   98.72%; recall:   99.57%; F1:   99.14; predicted:   234\n",
      "\n",
      "\t       other: precision:   98.69%; recall:   99.21%; F1:   98.95; predicted:   761\n",
      "\n",
      "\t      person: precision:   99.89%; recall:   99.77%; F1:   99.83; predicted:   885\n",
      "\n",
      "\t     product: precision:   99.37%; recall:   99.69%; F1:   99.53; predicted:   319\n",
      "\n",
      "\t  sportsteam: precision:   99.08%; recall:   99.54%; F1:   99.31; predicted:   218\n",
      "\n",
      "\t      tvshow: precision:   98.21%; recall:   94.83%; F1:   96.49; predicted:    56\n",
      "\n",
      "-------------------- Validation set quality: --------------------\n",
      "processed 12836 tokens with 537 phrases; found: 394 phrases; correct: 184.\n",
      "\n",
      "precision:  46.70%; recall:  34.26%; F1:  39.53\n",
      "\n",
      "\t     company: precision:   60.23%; recall:   50.96%; F1:   55.21; predicted:    88\n",
      "\n",
      "\t    facility: precision:   41.67%; recall:   29.41%; F1:   34.48; predicted:    24\n",
      "\n",
      "\t     geo-loc: precision:   70.00%; recall:   49.56%; F1:   58.03; predicted:    80\n",
      "\n",
      "\t       movie: precision:    0.00%; recall:    0.00%; F1:    0.00; predicted:     5\n",
      "\n",
      "\t musicartist: precision:   33.33%; recall:   10.71%; F1:   16.22; predicted:     9\n",
      "\n",
      "\t       other: precision:   30.59%; recall:   32.10%; F1:   31.33; predicted:    85\n",
      "\n",
      "\t      person: precision:   39.39%; recall:   23.21%; F1:   29.21; predicted:    66\n",
      "\n",
      "\t     product: precision:   20.00%; recall:   14.71%; F1:   16.95; predicted:    25\n",
      "\n",
      "\t  sportsteam: precision:   55.56%; recall:   25.00%; F1:   34.48; predicted:     9\n",
      "\n",
      "\t      tvshow: precision:    0.00%; recall:    0.00%; F1:    0.00; predicted:     3\n",
      "\n",
      "-------------------- Test set quality: --------------------\n",
      "processed 11742 tokens with 425 phrases; found: 382 phrases; correct: 221.\n",
      "\n",
      "precision:  57.85%; recall:  52.00%; F1:  54.77\n",
      "\n",
      "\t     company: precision:   66.67%; recall:   59.65%; F1:   62.96; predicted:    51\n",
      "\n",
      "\t    facility: precision:   45.45%; recall:   36.59%; F1:   40.54; predicted:    33\n",
      "\n",
      "\t     geo-loc: precision:   72.22%; recall:   64.46%; F1:   68.12; predicted:   108\n",
      "\n",
      "\t       movie: precision:    0.00%; recall:    0.00%; F1:    0.00; predicted:     1\n",
      "\n",
      "\t musicartist: precision:   33.33%; recall:   12.50%; F1:   18.18; predicted:     6\n",
      "\n",
      "\t       other: precision:   39.76%; recall:   43.42%; F1:   41.51; predicted:    83\n",
      "\n",
      "\t      person: precision:   73.02%; recall:   65.71%; F1:   69.17; predicted:    63\n",
      "\n",
      "\t     product: precision:   41.67%; recall:   31.25%; F1:   35.71; predicted:    12\n",
      "\n",
      "\t  sportsteam: precision:   38.10%; recall:   42.11%; F1:   40.00; predicted:    21\n",
      "\n",
      "\t      tvshow: precision:    0.00%; recall:    0.00%; F1:    0.00; predicted:     4\n",
      "\n"
     ]
    }
   ],
   "source": [
    "print('-' * 20 + ' Train set quality: ' + '-' * 20)\n",
    "train_results = eval_conll(model, train_tokens, train_tags, short_report=False)\n",
    "\n",
    "print('-' * 20 + ' Validation set quality: ' + '-' * 20)\n",
    "validation_results = eval_conll(model, validation_tokens, validation_tags, short_report=False)\n",
    "\n",
    "print('-' * 20 + ' Test set quality: ' + '-' * 20)\n",
    "test_results = eval_conll(model, test_tokens, test_tags, short_report=False)"
   ]
  },
  {
   "cell_type": "markdown",
   "metadata": {},
   "source": [
    "### Conclusions\n",
    "\n",
    "Could we say that our model is state of the art and the results are acceptable for the task? Definately, we can say so. Nowadays, Bi-LSTM is one of the state of the art approaches for solving NER problem and it outperforms other classical methods. Despite the fact that we used small training corpora (in comparison with usual sizes of corpora in Deep Learning), our results are quite good. In addition, in this task there are many possible named entities and for some of them we have only several dozens of trainig examples, which is definately small. However, the implemented model outperforms classical CRFs for this task. Even better results could be obtained by some combinations of several types of methods, e.g. see [this](https://arxiv.org/abs/1603.01354) paper if you are interested."
   ]
  }
 ],
 "metadata": {
  "kernelspec": {
   "display_name": "Python 3",
   "language": "python",
   "name": "python3"
  }
 },
 "nbformat": 4,
 "nbformat_minor": 1
}
